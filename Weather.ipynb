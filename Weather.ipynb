{
  "nbformat": 4,
  "nbformat_minor": 0,
  "metadata": {
    "colab": {
      "private_outputs": true,
      "provenance": [],
      "authorship_tag": "ABX9TyOoAyhtIdDDkMP3OwZfRwWt",
      "include_colab_link": true
    },
    "kernelspec": {
      "name": "python3",
      "display_name": "Python 3"
    },
    "language_info": {
      "name": "python"
    }
  },
  "cells": [
    {
      "cell_type": "markdown",
      "metadata": {
        "id": "view-in-github",
        "colab_type": "text"
      },
      "source": [
        "<a href=\"https://colab.research.google.com/github/Deeyadav2001/Weather-Prediction/blob/main/Weather.ipynb\" target=\"_parent\"><img src=\"https://colab.research.google.com/assets/colab-badge.svg\" alt=\"Open In Colab\"/></a>"
      ]
    },
    {
      "cell_type": "markdown",
      "source": [
        "**Import libraries**"
      ],
      "metadata": {
        "id": "xsKBL_pC6UNq"
      }
    },
    {
      "cell_type": "code",
      "source": [
        "import numpy as np\n",
        "import pandas as pd\n",
        "import matplotlib.pyplot as plt\n",
        "import seaborn as sns\n",
        "import plotly.express as px\n",
        "%matplotlib inline\n",
        "\n",
        "import missingno as msno\n",
        "import warnings\n",
        "warnings.filterwarnings('ignore')"
      ],
      "metadata": {
        "id": "CRu5scmV59aB"
      },
      "execution_count": null,
      "outputs": []
    },
    {
      "cell_type": "code",
      "execution_count": null,
      "metadata": {
        "id": "8nDA2r334Rl3"
      },
      "outputs": [],
      "source": [
        "from google.colab import drive\n",
        "drive.mount('/content/drive')"
      ]
    },
    {
      "cell_type": "code",
      "source": [
        "data= pd.read_csv(\"/content/drive/MyDrive/Ind_2_sol/dataAUS.csv\")\n",
        "data.head()"
      ],
      "metadata": {
        "id": "qhRK0mK844Jk"
      },
      "execution_count": null,
      "outputs": []
    },
    {
      "cell_type": "code",
      "source": [
        "data['Date'] = pd.to_datetime(data['Date'])\n",
        "data['Day'] = data['Date'].dt.day\n",
        "data['Year'] = data['Date'].dt.year"
      ],
      "metadata": {
        "id": "-bpIw2YQ6cco"
      },
      "execution_count": null,
      "outputs": []
    },
    {
      "cell_type": "code",
      "source": [
        "data.drop('Date',axis=1,inplace=True)"
      ],
      "metadata": {
        "id": "QSRgaThj7X36"
      },
      "execution_count": null,
      "outputs": []
    },
    {
      "cell_type": "code",
      "source": [
        "numerical_columns=data._get_numeric_data().columns\n",
        "print('Numerical columns:', list(numerical_columns))\n",
        "print('\\n')\n",
        "\n",
        "#CATEGORICAL COLUMNS\n",
        "categorical_columns=list(set(data)-set(numerical_columns))\n",
        "print('Categorical colums: ',categorical_columns)"
      ],
      "metadata": {
        "id": "hUpqHQ6c7c6N"
      },
      "execution_count": null,
      "outputs": []
    },
    {
      "cell_type": "code",
      "source": [
        "plt.figure(figsize=(18,8))\n",
        "\n",
        "#Define the mask to set the values in the upper triangle to True\n",
        "mask_1=np.triu(np.ones_like(data.corr(),dtype=np.bool))   \n",
        "heatmap=sns.heatmap(data.corr(),annot=True,cmap='coolwarm',mask=mask_1)\n",
        "heatmap.set_title('Correlation heatmap',fontdict={'fontsize':16})"
      ],
      "metadata": {
        "id": "ykRiCaxv7kCm"
      },
      "execution_count": null,
      "outputs": []
    },
    {
      "cell_type": "code",
      "source": [
        "fig,axes=plt.subplots(2,2,figsize=(20,20))\n",
        "sns.set_style('whitegrid')\n",
        "\n",
        "#Maximum Temperature\n",
        "plt.subplot(2,2,1)\n",
        "plt.title('Maximum Temperature variation over the years',fontweight='bold',fontsize=20)\n",
        "plt.xlabel('MaxTemp',fontweight='bold',fontsize=16)\n",
        "sns.distplot(data['MaxTemp'],color='indigo',bins=25)\n",
        "\n",
        "#Minimum Temperature\n",
        "plt.subplot(2,2,2)\n",
        "plt.title('Minimum Temperature variation over the years',fontweight='bold',fontsize=20)\n",
        "plt.xlabel('MinTemp',fontweight='bold',fontsize=16)\n",
        "sns.distplot(data['MinTemp'],color='blue')\n",
        "\n",
        "#Sunshine\n",
        "plt.subplot(2,2,3)\n",
        "sns.distplot(data['Sunshine'],bins=50,color='green')\n",
        "plt.title('Sunshine over the years',fontweight='bold',fontsize=20)\n",
        "plt.xlabel('Sunshine',fontweight='bold',fontsize=16)\n",
        "\n",
        "#Evaporation\n",
        "plt.subplot(2,2,4)\n",
        "sns.distplot(data['Evaporation'],bins=50,color='red')\n",
        "plt.title('Evaporation over the years',fontweight='bold',fontsize=20)\n",
        "plt.xlabel('Evaporation',fontweight='bold',fontsize=16)\n",
        "\n",
        "\n",
        "print('\\033[1m'+'The mean max. temp. is: ', data['MaxTemp'].mean())\n",
        "print('\\033[1m'+'The mean min. temp. is: ', data['MinTemp'].mean())\n",
        "print('\\033[1m'+'The mean sunshine over the years is: ', data['Sunshine'].mean())\n",
        "print('\\033[1m'+'The mean evaporation over the years is: ',data['Evaporation'].mean())"
      ],
      "metadata": {
        "id": "mMrpMMC77rfO"
      },
      "execution_count": null,
      "outputs": []
    },
    {
      "cell_type": "code",
      "source": [
        "data['MinTemp'].fillna(data['MinTemp'].mean(),inplace=True)\n",
        "data['MaxTemp'].fillna(data['MaxTemp'].mean(),inplace=True)\n",
        "data['Evaporation'].fillna(data['Evaporation'].mean(),inplace=True)\n",
        "data['Sunshine'].fillna(data['Sunshine'].mean(),inplace=True)"
      ],
      "metadata": {
        "id": "3kuiPQ428AZx"
      },
      "execution_count": null,
      "outputs": []
    },
    {
      "cell_type": "code",
      "source": [
        "plt.figure(figsize=(18,6))\n",
        "sns.distplot(data['Rainfall'],bins=50,color='black')\n",
        "plt.title('Rainfall over the years',fontweight='bold',fontsize=16)\n",
        "plt.show()\n",
        "\n",
        "\n",
        "print('\\033[1m'+'The mean rainfall over the years is: ',data['Rainfall'].mean())"
      ],
      "metadata": {
        "id": "MDvIreNd8i3m"
      },
      "execution_count": null,
      "outputs": []
    },
    {
      "cell_type": "code",
      "source": [
        "data['Rainfall'].fillna(data['Rainfall'].mean(),inplace=True)\n",
        "data['WindSpeed9am'].fillna(data['WindSpeed9am'].mean(),inplace=True)\n",
        "data['WindSpeed3pm'].fillna(data['WindSpeed3pm'].mean(),inplace=True)\n",
        "data['Humidity9am'].fillna(data['Humidity9am'].mean(),inplace=True)\n",
        "data['Humidity3pm'].fillna(data['Humidity3pm'].mean(),inplace=True)\n",
        "data['Pressure9am'].fillna(data['Pressure9am'].mean(),inplace=True)\n",
        "data['Pressure3pm'].fillna(data['Pressure3pm'].mean(),inplace=True)\n",
        "data['Cloud9am'].fillna(data['Cloud9am'].mean(),inplace=True)\n",
        "data['Cloud3pm'].fillna(data['Cloud3pm'].mean(),inplace=True)\n",
        "data['Temp9am'].fillna(data['Temp9am'].mean(),inplace=True)\n",
        "data['Temp3pm'].fillna(data['Temp3pm'].mean(),inplace=True)\n",
        "data['WindGustSpeed'].fillna(data['WindGustSpeed'].mean(),inplace=True)"
      ],
      "metadata": {
        "id": "tMsRcrZ_8z3D"
      },
      "execution_count": null,
      "outputs": []
    },
    {
      "cell_type": "code",
      "source": [
        "data['WindGustDir'].fillna('W',inplace=True)\n",
        "data['WindDir9am'].fillna('N',inplace=True)\n",
        "data['WindDir3pm'].fillna('SE',inplace=True)"
      ],
      "metadata": {
        "id": "Hid9YM8283VI"
      },
      "execution_count": null,
      "outputs": []
    },
    {
      "cell_type": "code",
      "source": [
        "plt.figure(figsize=(18,10))\n",
        "sns.heatmap(data[numerical_columns].corr(),annot=True)"
      ],
      "metadata": {
        "id": "YBwy4ovk9Dx0"
      },
      "execution_count": null,
      "outputs": []
    },
    {
      "cell_type": "code",
      "source": [
        "for i in data:\n",
        "    if data[i].dtype=='float64':\n",
        "        q1 = data[i].quantile(0.25)\n",
        "        q3 = data[i].quantile(0.75)\n",
        "        iqr = q3-q1\n",
        "        Lower_tail = q1 - 1.5 * iqr\n",
        "        Upper_tail = q3 + 1.5 * iqr\n",
        "        med = np.median(data[i])\n",
        "        for j in data[i]:\n",
        "            if j > Upper_tail or j < Lower_tail:\n",
        "                data[i] = data[i].replace(j, med)\n",
        "    else:\n",
        "        continue"
      ],
      "metadata": {
        "id": "78rvQaL79HmM"
      },
      "execution_count": null,
      "outputs": []
    },
    {
      "cell_type": "markdown",
      "source": [
        "**Converting Categorical Data to Numerical Data**"
      ],
      "metadata": {
        "id": "0KXvlyj7DPgY"
      }
    },
    {
      "cell_type": "code",
      "source": [
        "from sklearn.preprocessing import LabelEncoder\n",
        "label_encoder=LabelEncoder()\n",
        "categorical_columns=['RainTomorrow', 'WindDir3pm', 'WindGustDir', 'WindDir9am', 'RainToday', 'Location']\n",
        "for i in categorical_columns:\n",
        "    data[i]=label_encoder.fit_transform(data[i])"
      ],
      "metadata": {
        "id": "zFuaBDCJ9QmQ"
      },
      "execution_count": null,
      "outputs": []
    },
    {
      "cell_type": "code",
      "source": [
        "X=data.drop('RainTomorrow',axis=1)\n",
        "y=data['RainTomorrow']"
      ],
      "metadata": {
        "id": "ITzmdWjw9VPS"
      },
      "execution_count": null,
      "outputs": []
    },
    {
      "cell_type": "markdown",
      "source": [
        "**Train Test Split**"
      ],
      "metadata": {
        "id": "5MmJBi-5DaOc"
      }
    },
    {
      "cell_type": "code",
      "source": [
        "from sklearn.model_selection import train_test_split\n",
        "X_train,X_test,y_train,y_test=train_test_split(X,y,test_size=0.3,random_state=42)"
      ],
      "metadata": {
        "id": "zjiypsVADdXG"
      },
      "execution_count": null,
      "outputs": []
    },
    {
      "cell_type": "code",
      "source": [
        "X_train.head(2)\n",
        "print('Shape of X_train:', X_train.shape)\n",
        "print('Shape of X_test:', X_test.shape)"
      ],
      "metadata": {
        "id": "1Upevw0O9Zgp"
      },
      "execution_count": null,
      "outputs": []
    },
    {
      "cell_type": "markdown",
      "source": [
        "##Model Building and Evalution"
      ],
      "metadata": {
        "id": "S1jzRjO_IBMh"
      }
    },
    {
      "cell_type": "markdown",
      "source": [
        "###Linear Regression Model"
      ],
      "metadata": {
        "id": "Q0YU8NirIIwZ"
      }
    },
    {
      "cell_type": "code",
      "source": [
        "from sklearn.linear_model import LogisticRegression\n",
        "lr=LogisticRegression(max_iter=1000)"
      ],
      "metadata": {
        "id": "Nal4zwGkD5RN"
      },
      "execution_count": null,
      "outputs": []
    },
    {
      "cell_type": "code",
      "source": [
        "data = data.reset_index()\n",
        "data.replace([np.inf, -np.inf], np.nan, inplace=True)\n",
        "data.fillna(data.mean, inplace=True)"
      ],
      "metadata": {
        "id": "61XhfF0ZIaZV"
      },
      "execution_count": null,
      "outputs": []
    },
    {
      "cell_type": "code",
      "source": [
        "lr.fit(X_train,y_train)\n",
        "predict=lr.predict(X_test)"
      ],
      "metadata": {
        "id": "-5M1ruX2IeX9"
      },
      "execution_count": null,
      "outputs": []
    },
    {
      "cell_type": "code",
      "source": [
        "from sklearn.metrics import classification_report, confusion_matrix\n",
        "print(classification_report(predict,y_test))"
      ],
      "metadata": {
        "id": "qfVwbUZnIgvD"
      },
      "execution_count": null,
      "outputs": []
    },
    {
      "cell_type": "code",
      "source": [
        "print(confusion_matrix(predict,y_test))"
      ],
      "metadata": {
        "id": "TozXfzMIIj1u"
      },
      "execution_count": null,
      "outputs": []
    },
    {
      "cell_type": "code",
      "source": [
        "lr.score(X_test,y_test)"
      ],
      "metadata": {
        "id": "v_95NVirIlOZ"
      },
      "execution_count": null,
      "outputs": []
    },
    {
      "cell_type": "markdown",
      "source": [
        "### Decision Tree Classifier"
      ],
      "metadata": {
        "id": "FE_DOc2MIubC"
      }
    },
    {
      "cell_type": "code",
      "source": [
        "from sklearn.tree import DecisionTreeClassifier\n",
        "dtree=DecisionTreeClassifier()\n",
        "dtree.fit(X_train,y_train)"
      ],
      "metadata": {
        "id": "oAw9r0GLI2JJ"
      },
      "execution_count": null,
      "outputs": []
    },
    {
      "cell_type": "code",
      "source": [
        "prediction=dtree.predict(X_test)"
      ],
      "metadata": {
        "id": "N2l8SmRYI5aJ"
      },
      "execution_count": null,
      "outputs": []
    },
    {
      "cell_type": "code",
      "source": [
        "from sklearn.metrics import classification_report,confusion_matrix\n",
        "print(classification_report(prediction,y_test))"
      ],
      "metadata": {
        "id": "pFQgbsQ5I65p"
      },
      "execution_count": null,
      "outputs": []
    },
    {
      "cell_type": "code",
      "source": [
        "print(confusion_matrix(prediction,y_test))"
      ],
      "metadata": {
        "id": "HcCB04AOI92r"
      },
      "execution_count": null,
      "outputs": []
    },
    {
      "cell_type": "code",
      "source": [
        "dtree.score(X_test,y_test)"
      ],
      "metadata": {
        "id": "M6f3_r2bI_o5"
      },
      "execution_count": null,
      "outputs": []
    },
    {
      "cell_type": "markdown",
      "source": [
        "### Random Forest Regressor"
      ],
      "metadata": {
        "id": "wMxK5WMJJEe9"
      }
    },
    {
      "cell_type": "code",
      "source": [
        "from sklearn.ensemble import RandomForestClassifier\n",
        "rf = RandomForestClassifier(n_estimators = 100, random_state = 0)\n",
        "rf.fit(X_train,y_train)"
      ],
      "metadata": {
        "id": "vzrsJBUOJNo6"
      },
      "execution_count": null,
      "outputs": []
    },
    {
      "cell_type": "code",
      "source": [
        "RandomForestRegressorScore = rf.score(X_test,y_test)"
      ],
      "metadata": {
        "id": "7OWMTfzuJUTL"
      },
      "execution_count": null,
      "outputs": []
    },
    {
      "cell_type": "code",
      "source": [
        "print(classification_report(prediction,y_test))"
      ],
      "metadata": {
        "id": "-OaCZLOiJWXn"
      },
      "execution_count": null,
      "outputs": []
    },
    {
      "cell_type": "code",
      "source": [
        "print(confusion_matrix(prediction,y_test))"
      ],
      "metadata": {
        "id": "Mr8hoODnJYYk"
      },
      "execution_count": null,
      "outputs": []
    },
    {
      "cell_type": "code",
      "source": [
        "rf.score(X_test,y_test)"
      ],
      "metadata": {
        "id": "7J75Uj-WJa7m"
      },
      "execution_count": null,
      "outputs": []
    },
    {
      "cell_type": "markdown",
      "source": [
        "### XGBoost Classifier"
      ],
      "metadata": {
        "id": "3sKjyj56Jkni"
      }
    },
    {
      "cell_type": "code",
      "source": [
        "from xgboost import  XGBClassifier\n",
        "xgb_model=XGBClassifier()"
      ],
      "metadata": {
        "id": "plabol77JqDc"
      },
      "execution_count": null,
      "outputs": []
    },
    {
      "cell_type": "code",
      "source": [
        "xgb_model.fit(X_train,y_train)"
      ],
      "metadata": {
        "id": "bekBwuZvJx5k"
      },
      "execution_count": null,
      "outputs": []
    },
    {
      "cell_type": "code",
      "source": [
        "predictions_xgb=xgb_model.predict(X_test)"
      ],
      "metadata": {
        "id": "0mr_lkkYJz6r"
      },
      "execution_count": null,
      "outputs": []
    },
    {
      "cell_type": "code",
      "source": [
        "xgb_model.score(X_test,y_test)"
      ],
      "metadata": {
        "id": "lqw1euf9J19z"
      },
      "execution_count": null,
      "outputs": []
    },
    {
      "cell_type": "markdown",
      "source": [
        "### KNeighbors Classifier"
      ],
      "metadata": {
        "id": "5Y-Xt_jVJ4AU"
      }
    },
    {
      "cell_type": "code",
      "source": [
        "from sklearn.neighbors import KNeighborsClassifier"
      ],
      "metadata": {
        "id": "_KWC12j6KEf9"
      },
      "execution_count": null,
      "outputs": []
    },
    {
      "cell_type": "code",
      "source": [
        "knn=KNeighborsClassifier(n_neighbors=4)\n",
        "knn.fit(X_train,y_train)\n",
        "predictions=knn.predict(X_test)"
      ],
      "metadata": {
        "id": "skjge-YJKKL7"
      },
      "execution_count": null,
      "outputs": []
    },
    {
      "cell_type": "code",
      "source": [
        "classification_report(predictions,y_test)\n",
        "confusion_matrix(predictions,y_test)"
      ],
      "metadata": {
        "id": "F6pMT9zNKNTu"
      },
      "execution_count": null,
      "outputs": []
    },
    {
      "cell_type": "code",
      "source": [
        "knn.score(X_test,y_test)"
      ],
      "metadata": {
        "id": "tjXcXUdQKRPT"
      },
      "execution_count": null,
      "outputs": []
    }
  ]
}